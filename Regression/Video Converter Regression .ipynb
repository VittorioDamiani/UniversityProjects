{
 "cells": [
  {
   "cell_type": "markdown",
   "metadata": {},
   "source": [
    "# Video Coverter"
   ]
  },
  {
   "cell_type": "markdown",
   "metadata": {},
   "source": [
    "## Data Load"
   ]
  },
  {
   "cell_type": "code",
   "execution_count": 2,
   "metadata": {
    "scrolled": true
   },
   "outputs": [
    {
     "data": {
      "text/html": [
       "<div>\n",
       "<style scoped>\n",
       "    .dataframe tbody tr th:only-of-type {\n",
       "        vertical-align: middle;\n",
       "    }\n",
       "\n",
       "    .dataframe tbody tr th {\n",
       "        vertical-align: top;\n",
       "    }\n",
       "\n",
       "    .dataframe thead th {\n",
       "        text-align: right;\n",
       "    }\n",
       "</style>\n",
       "<table border=\"1\" class=\"dataframe\">\n",
       "  <thead>\n",
       "    <tr style=\"text-align: right;\">\n",
       "      <th></th>\n",
       "      <th>id</th>\n",
       "      <th>duration</th>\n",
       "      <th>codec</th>\n",
       "      <th>width</th>\n",
       "      <th>height</th>\n",
       "      <th>bitrate</th>\n",
       "      <th>category</th>\n",
       "      <th>framerate</th>\n",
       "      <th>i</th>\n",
       "      <th>p</th>\n",
       "      <th>...</th>\n",
       "      <th>p_size</th>\n",
       "      <th>b_size</th>\n",
       "      <th>size</th>\n",
       "      <th>o_codec</th>\n",
       "      <th>o_bitrate</th>\n",
       "      <th>o_framerate</th>\n",
       "      <th>o_width</th>\n",
       "      <th>o_height</th>\n",
       "      <th>umem</th>\n",
       "      <th>utime</th>\n",
       "    </tr>\n",
       "  </thead>\n",
       "  <tbody>\n",
       "    <tr>\n",
       "      <th>0</th>\n",
       "      <td>1</td>\n",
       "      <td>645.84000</td>\n",
       "      <td>vp8</td>\n",
       "      <td>320</td>\n",
       "      <td>240</td>\n",
       "      <td>95903</td>\n",
       "      <td>People &amp; Blogs</td>\n",
       "      <td>25.032558</td>\n",
       "      <td>138</td>\n",
       "      <td>16008</td>\n",
       "      <td>...</td>\n",
       "      <td>6660941</td>\n",
       "      <td>0</td>\n",
       "      <td>7742262</td>\n",
       "      <td>vp8</td>\n",
       "      <td>109000</td>\n",
       "      <td>29.97</td>\n",
       "      <td>1280</td>\n",
       "      <td>720</td>\n",
       "      <td>218932</td>\n",
       "      <td>15.929</td>\n",
       "    </tr>\n",
       "    <tr>\n",
       "      <th>1</th>\n",
       "      <td>2</td>\n",
       "      <td>326.58832</td>\n",
       "      <td>h264</td>\n",
       "      <td>1920</td>\n",
       "      <td>1080</td>\n",
       "      <td>5999648</td>\n",
       "      <td>People &amp; Blogs</td>\n",
       "      <td>23.000000</td>\n",
       "      <td>174</td>\n",
       "      <td>7656</td>\n",
       "      <td>...</td>\n",
       "      <td>228322925</td>\n",
       "      <td>0</td>\n",
       "      <td>244926878</td>\n",
       "      <td>flv</td>\n",
       "      <td>820000</td>\n",
       "      <td>29.97</td>\n",
       "      <td>1920</td>\n",
       "      <td>1080</td>\n",
       "      <td>218932</td>\n",
       "      <td>10.417</td>\n",
       "    </tr>\n",
       "    <tr>\n",
       "      <th>2</th>\n",
       "      <td>3</td>\n",
       "      <td>473.00000</td>\n",
       "      <td>h264</td>\n",
       "      <td>320</td>\n",
       "      <td>240</td>\n",
       "      <td>164017</td>\n",
       "      <td>Sports</td>\n",
       "      <td>25.000000</td>\n",
       "      <td>198</td>\n",
       "      <td>10924</td>\n",
       "      <td>...</td>\n",
       "      <td>8047423</td>\n",
       "      <td>0</td>\n",
       "      <td>9697521</td>\n",
       "      <td>h264</td>\n",
       "      <td>242000</td>\n",
       "      <td>24.00</td>\n",
       "      <td>1920</td>\n",
       "      <td>1080</td>\n",
       "      <td>645544</td>\n",
       "      <td>45.327</td>\n",
       "    </tr>\n",
       "    <tr>\n",
       "      <th>3</th>\n",
       "      <td>4</td>\n",
       "      <td>448.57500</td>\n",
       "      <td>vp8</td>\n",
       "      <td>1280</td>\n",
       "      <td>720</td>\n",
       "      <td>2052426</td>\n",
       "      <td>Gaming</td>\n",
       "      <td>30.002232</td>\n",
       "      <td>92</td>\n",
       "      <td>13349</td>\n",
       "      <td>...</td>\n",
       "      <td>105950761</td>\n",
       "      <td>0</td>\n",
       "      <td>115083398</td>\n",
       "      <td>h264</td>\n",
       "      <td>3000000</td>\n",
       "      <td>15.00</td>\n",
       "      <td>1920</td>\n",
       "      <td>1080</td>\n",
       "      <td>655172</td>\n",
       "      <td>102.842</td>\n",
       "    </tr>\n",
       "    <tr>\n",
       "      <th>4</th>\n",
       "      <td>5</td>\n",
       "      <td>255.28000</td>\n",
       "      <td>flv</td>\n",
       "      <td>320</td>\n",
       "      <td>240</td>\n",
       "      <td>250276</td>\n",
       "      <td>Music</td>\n",
       "      <td>25.000000</td>\n",
       "      <td>110</td>\n",
       "      <td>6272</td>\n",
       "      <td>...</td>\n",
       "      <td>7374864</td>\n",
       "      <td>0</td>\n",
       "      <td>7986338</td>\n",
       "      <td>mpeg4</td>\n",
       "      <td>820000</td>\n",
       "      <td>25.00</td>\n",
       "      <td>1920</td>\n",
       "      <td>1080</td>\n",
       "      <td>216820</td>\n",
       "      <td>14.937</td>\n",
       "    </tr>\n",
       "  </tbody>\n",
       "</table>\n",
       "<p>5 rows × 23 columns</p>\n",
       "</div>"
      ],
      "text/plain": [
       "   id   duration codec  width  height  bitrate        category  framerate  \\\n",
       "0   1  645.84000   vp8    320     240    95903  People & Blogs  25.032558   \n",
       "1   2  326.58832  h264   1920    1080  5999648  People & Blogs  23.000000   \n",
       "2   3  473.00000  h264    320     240   164017          Sports  25.000000   \n",
       "3   4  448.57500   vp8   1280     720  2052426          Gaming  30.002232   \n",
       "4   5  255.28000   flv    320     240   250276           Music  25.000000   \n",
       "\n",
       "     i      p  ...     p_size  b_size       size  o_codec  o_bitrate  \\\n",
       "0  138  16008  ...    6660941       0    7742262      vp8     109000   \n",
       "1  174   7656  ...  228322925       0  244926878      flv     820000   \n",
       "2  198  10924  ...    8047423       0    9697521     h264     242000   \n",
       "3   92  13349  ...  105950761       0  115083398     h264    3000000   \n",
       "4  110   6272  ...    7374864       0    7986338    mpeg4     820000   \n",
       "\n",
       "   o_framerate o_width  o_height    umem    utime  \n",
       "0        29.97    1280       720  218932   15.929  \n",
       "1        29.97    1920      1080  218932   10.417  \n",
       "2        24.00    1920      1080  645544   45.327  \n",
       "3        15.00    1920      1080  655172  102.842  \n",
       "4        25.00    1920      1080  216820   14.937  \n",
       "\n",
       "[5 rows x 23 columns]"
      ]
     },
     "execution_count": 2,
     "metadata": {},
     "output_type": "execute_result"
    }
   ],
   "source": [
    "import pandas as pd \n",
    "import numpy as np\n",
    "\n",
    "df = pd.read_csv(\"model.csv\")\n",
    "\n",
    "df.head()"
   ]
  },
  {
   "cell_type": "code",
   "execution_count": 3,
   "metadata": {},
   "outputs": [
    {
     "data": {
      "text/plain": [
       "id             0\n",
       "duration       0\n",
       "codec          0\n",
       "width          0\n",
       "height         0\n",
       "bitrate        0\n",
       "category       0\n",
       "framerate      0\n",
       "i              0\n",
       "p              0\n",
       "b              0\n",
       "frames         0\n",
       "i_size         0\n",
       "p_size         0\n",
       "b_size         0\n",
       "size           0\n",
       "o_codec        0\n",
       "o_bitrate      0\n",
       "o_framerate    0\n",
       "o_width        0\n",
       "o_height       0\n",
       "umem           0\n",
       "utime          0\n",
       "dtype: int64"
      ]
     },
     "execution_count": 3,
     "metadata": {},
     "output_type": "execute_result"
    }
   ],
   "source": [
    "df.isnull().sum()"
   ]
  },
  {
   "cell_type": "markdown",
   "metadata": {},
   "source": [
    "## EDA"
   ]
  },
  {
   "cell_type": "markdown",
   "metadata": {},
   "source": [
    "### Categorical"
   ]
  },
  {
   "cell_type": "code",
   "execution_count": 4,
   "metadata": {},
   "outputs": [
    {
     "data": {
      "text/plain": [
       "Index(['id', 'duration', 'codec', 'width', 'height', 'bitrate', 'category',\n",
       "       'framerate', 'i', 'p', 'b', 'frames', 'i_size', 'p_size', 'b_size',\n",
       "       'size', 'o_codec', 'o_bitrate', 'o_framerate', 'o_width', 'o_height',\n",
       "       'umem', 'utime'],\n",
       "      dtype='object')"
      ]
     },
     "execution_count": 4,
     "metadata": {},
     "output_type": "execute_result"
    }
   ],
   "source": [
    "df.columns"
   ]
  },
  {
   "cell_type": "code",
   "execution_count": 5,
   "metadata": {
    "scrolled": true
   },
   "outputs": [
    {
     "data": {
      "text/html": [
       "<div>\n",
       "<style scoped>\n",
       "    .dataframe tbody tr th:only-of-type {\n",
       "        vertical-align: middle;\n",
       "    }\n",
       "\n",
       "    .dataframe tbody tr th {\n",
       "        vertical-align: top;\n",
       "    }\n",
       "\n",
       "    .dataframe thead th {\n",
       "        text-align: right;\n",
       "    }\n",
       "</style>\n",
       "<table border=\"1\" class=\"dataframe\">\n",
       "  <thead>\n",
       "    <tr style=\"text-align: right;\">\n",
       "      <th></th>\n",
       "      <th>codec</th>\n",
       "      <th>height</th>\n",
       "      <th>o_codec</th>\n",
       "      <th>o_height</th>\n",
       "    </tr>\n",
       "  </thead>\n",
       "  <tbody>\n",
       "    <tr>\n",
       "      <th>0</th>\n",
       "      <td>vp8</td>\n",
       "      <td>240</td>\n",
       "      <td>vp8</td>\n",
       "      <td>720</td>\n",
       "    </tr>\n",
       "    <tr>\n",
       "      <th>1</th>\n",
       "      <td>h264</td>\n",
       "      <td>1080</td>\n",
       "      <td>flv</td>\n",
       "      <td>1080</td>\n",
       "    </tr>\n",
       "    <tr>\n",
       "      <th>2</th>\n",
       "      <td>h264</td>\n",
       "      <td>240</td>\n",
       "      <td>h264</td>\n",
       "      <td>1080</td>\n",
       "    </tr>\n",
       "    <tr>\n",
       "      <th>3</th>\n",
       "      <td>vp8</td>\n",
       "      <td>720</td>\n",
       "      <td>h264</td>\n",
       "      <td>1080</td>\n",
       "    </tr>\n",
       "    <tr>\n",
       "      <th>4</th>\n",
       "      <td>flv</td>\n",
       "      <td>240</td>\n",
       "      <td>mpeg4</td>\n",
       "      <td>1080</td>\n",
       "    </tr>\n",
       "  </tbody>\n",
       "</table>\n",
       "</div>"
      ],
      "text/plain": [
       "  codec  height o_codec  o_height\n",
       "0   vp8     240     vp8       720\n",
       "1  h264    1080     flv      1080\n",
       "2  h264     240    h264      1080\n",
       "3   vp8     720    h264      1080\n",
       "4   flv     240   mpeg4      1080"
      ]
     },
     "execution_count": 5,
     "metadata": {},
     "output_type": "execute_result"
    }
   ],
   "source": [
    "#Drop Category because it's not so meaningful and widht because for each widht there is a specific height\n",
    "\n",
    "df_cat = df[[\"codec\",\"height\",\"o_codec\", \"o_height\"]]\n",
    "\n",
    "df_cat.head()"
   ]
  },
  {
   "cell_type": "code",
   "execution_count": 6,
   "metadata": {
    "scrolled": true
   },
   "outputs": [
    {
     "data": {
      "text/plain": [
       "<seaborn.axisgrid.PairGrid at 0x1e340528b20>"
      ]
     },
     "execution_count": 6,
     "metadata": {},
     "output_type": "execute_result"
    },
    {
     "data": {
      "image/png": "[encoded data removed]",
      "text/plain": [
       "<Figure size 483x432 with 2 Axes>"
      ]
     },
     "metadata": {
      "needs_background": "light"
     },
     "output_type": "display_data"
    }
   ],
   "source": [
    "%matplotlib inline\n",
    "import seaborn as sns\n",
    "import matplotlib.pyplot as plt\n",
    "\n",
    "sns.pairplot(data=df[[\"o_height\",\"utime\"]],hue=\"o_height\", height=6)"
   ]
  },
  {
   "cell_type": "code",
   "execution_count": 7,
   "metadata": {
    "scrolled": true
   },
   "outputs": [
    {
     "data": {
      "text/plain": [
       "<seaborn.axisgrid.PairGrid at 0x1e3458f44c0>"
      ]
     },
     "execution_count": 7,
     "metadata": {},
     "output_type": "execute_result"
    },
    {
     "data": {
      "image/png": "[encoded data removed]",
      "text/plain": [
       "<Figure size 480.5x432 with 2 Axes>"
      ]
     },
     "metadata": {
      "needs_background": "light"
     },
     "output_type": "display_data"
    }
   ],
   "source": [
    "%matplotlib inline\n",
    "import seaborn as sns\n",
    "import matplotlib.pyplot as plt\n",
    "\n",
    "sns.pairplot(data=df[[\"o_codec\",\"utime\"]],hue=\"o_codec\", height=6)"
   ]
  },
  {
   "cell_type": "code",
   "execution_count": 8,
   "metadata": {
    "scrolled": true
   },
   "outputs": [
    {
     "data": {
      "text/plain": [
       "<seaborn.axisgrid.FacetGrid at 0x1e34596b1f0>"
      ]
     },
     "execution_count": 8,
     "metadata": {},
     "output_type": "execute_result"
    },
    {
     "data": {
      "image/png": "[encoded data removed]",
      "text/plain": [
       "<Figure size 489.6x734.4 with 6 Axes>"
      ]
     },
     "metadata": {
      "needs_background": "light"
     },
     "output_type": "display_data"
    }
   ],
   "source": [
    "g = sns.FacetGrid(df, row=\"o_height\", \n",
    "                  height=1.7, aspect=4,)\n",
    "g.map(sns.kdeplot, \"utime\")"
   ]
  },
  {
   "cell_type": "code",
   "execution_count": 9,
   "metadata": {
    "scrolled": true
   },
   "outputs": [
    {
     "data": {
      "text/plain": [
       "<seaborn.axisgrid.FacetGrid at 0x1e345c91610>"
      ]
     },
     "execution_count": 9,
     "metadata": {},
     "output_type": "execute_result"
    },
    {
     "data": {
      "image/png": "[encoded data removed]",
      "text/plain": [
       "<Figure size 489.6x489.6 with 4 Axes>"
      ]
     },
     "metadata": {
      "needs_background": "light"
     },
     "output_type": "display_data"
    }
   ],
   "source": [
    "g = sns.FacetGrid(df, row=\"o_codec\", \n",
    "                  height=1.7, aspect=4,)\n",
    "g.map(sns.kdeplot, \"utime\")"
   ]
  },
  {
   "cell_type": "code",
   "execution_count": 10,
   "metadata": {
    "scrolled": true
   },
   "outputs": [
    {
     "data": {
      "text/plain": [
       "<seaborn.axisgrid.FacetGrid at 0x1e3458ac0d0>"
      ]
     },
     "execution_count": 10,
     "metadata": {},
     "output_type": "execute_result"
    },
    {
     "data": {
      "image/png": "[encoded data removed]",
      "text/plain": [
       "<Figure size 1440x1440 with 1 Axes>"
      ]
     },
     "metadata": {
      "needs_background": "light"
     },
     "output_type": "display_data"
    }
   ],
   "source": [
    "sns.catplot(data=df, x=\"category\", y=\"utime\",kind=\"box\", palette=\"Set3\", height = 20)"
   ]
  },
  {
   "cell_type": "code",
   "execution_count": 11,
   "metadata": {
    "scrolled": true
   },
   "outputs": [
    {
     "data": {
      "image/png": "[encoded data removed]",
      "text/plain": [
       "<Figure size 360x360 with 1 Axes>"
      ]
     },
     "metadata": {
      "needs_background": "light"
     },
     "output_type": "display_data"
    },
    {
     "data": {
      "image/png": "[encoded data removed]",
      "text/plain": [
       "<Figure size 360x360 with 1 Axes>"
      ]
     },
     "metadata": {
      "needs_background": "light"
     },
     "output_type": "display_data"
    },
    {
     "data": {
      "image/png": "[encoded data removed]",
      "text/plain": [
       "<Figure size 360x360 with 1 Axes>"
      ]
     },
     "metadata": {
      "needs_background": "light"
     },
     "output_type": "display_data"
    },
    {
     "data": {
      "image/png": "[encoded data removed]",
      "text/plain": [
       "<Figure size 360x360 with 1 Axes>"
      ]
     },
     "metadata": {
      "needs_background": "light"
     },
     "output_type": "display_data"
    }
   ],
   "source": [
    "#Categorical Features & 'utime'\n",
    "%matplotlib inline\n",
    "import seaborn as sns\n",
    "import matplotlib.pyplot as plt\n",
    "\n",
    "for i in df_cat.columns:\n",
    "    sns.catplot(x=i, y=df[\"utime\"], kind=\"box\", palette=\"Set2\", data= df_cat)\n",
    "    plt.xticks(rotation=-90)\n",
    "    plt.show()"
   ]
  },
  {
   "cell_type": "markdown",
   "metadata": {},
   "source": [
    "### Numerical"
   ]
  },
  {
   "cell_type": "code",
   "execution_count": 12,
   "metadata": {},
   "outputs": [
    {
     "data": {
      "text/html": [
       "<div>\n",
       "<style scoped>\n",
       "    .dataframe tbody tr th:only-of-type {\n",
       "        vertical-align: middle;\n",
       "    }\n",
       "\n",
       "    .dataframe tbody tr th {\n",
       "        vertical-align: top;\n",
       "    }\n",
       "\n",
       "    .dataframe thead th {\n",
       "        text-align: right;\n",
       "    }\n",
       "</style>\n",
       "<table border=\"1\" class=\"dataframe\">\n",
       "  <thead>\n",
       "    <tr style=\"text-align: right;\">\n",
       "      <th></th>\n",
       "      <th>duration</th>\n",
       "      <th>width</th>\n",
       "      <th>bitrate</th>\n",
       "      <th>framerate</th>\n",
       "      <th>i</th>\n",
       "      <th>p</th>\n",
       "      <th>b</th>\n",
       "      <th>frames</th>\n",
       "      <th>i_size</th>\n",
       "      <th>p_size</th>\n",
       "      <th>size</th>\n",
       "      <th>o_bitrate</th>\n",
       "      <th>o_framerate</th>\n",
       "      <th>o_width</th>\n",
       "      <th>umem</th>\n",
       "      <th>utime</th>\n",
       "    </tr>\n",
       "  </thead>\n",
       "  <tbody>\n",
       "    <tr>\n",
       "      <th>0</th>\n",
       "      <td>645.84000</td>\n",
       "      <td>320</td>\n",
       "      <td>95903</td>\n",
       "      <td>25.032558</td>\n",
       "      <td>138</td>\n",
       "      <td>16008</td>\n",
       "      <td>0</td>\n",
       "      <td>16146</td>\n",
       "      <td>1081321</td>\n",
       "      <td>6660941</td>\n",
       "      <td>7742262</td>\n",
       "      <td>109000</td>\n",
       "      <td>29.97</td>\n",
       "      <td>1280</td>\n",
       "      <td>218932</td>\n",
       "      <td>15.929</td>\n",
       "    </tr>\n",
       "    <tr>\n",
       "      <th>1</th>\n",
       "      <td>326.58832</td>\n",
       "      <td>1920</td>\n",
       "      <td>5999648</td>\n",
       "      <td>23.000000</td>\n",
       "      <td>174</td>\n",
       "      <td>7656</td>\n",
       "      <td>0</td>\n",
       "      <td>7830</td>\n",
       "      <td>16603953</td>\n",
       "      <td>228322925</td>\n",
       "      <td>244926878</td>\n",
       "      <td>820000</td>\n",
       "      <td>29.97</td>\n",
       "      <td>1920</td>\n",
       "      <td>218932</td>\n",
       "      <td>10.417</td>\n",
       "    </tr>\n",
       "    <tr>\n",
       "      <th>2</th>\n",
       "      <td>473.00000</td>\n",
       "      <td>320</td>\n",
       "      <td>164017</td>\n",
       "      <td>25.000000</td>\n",
       "      <td>198</td>\n",
       "      <td>10924</td>\n",
       "      <td>704</td>\n",
       "      <td>11826</td>\n",
       "      <td>1419320</td>\n",
       "      <td>8047423</td>\n",
       "      <td>9697521</td>\n",
       "      <td>242000</td>\n",
       "      <td>24.00</td>\n",
       "      <td>1920</td>\n",
       "      <td>645544</td>\n",
       "      <td>45.327</td>\n",
       "    </tr>\n",
       "    <tr>\n",
       "      <th>3</th>\n",
       "      <td>448.57500</td>\n",
       "      <td>1280</td>\n",
       "      <td>2052426</td>\n",
       "      <td>30.002232</td>\n",
       "      <td>92</td>\n",
       "      <td>13349</td>\n",
       "      <td>0</td>\n",
       "      <td>13441</td>\n",
       "      <td>9132637</td>\n",
       "      <td>105950761</td>\n",
       "      <td>115083398</td>\n",
       "      <td>3000000</td>\n",
       "      <td>15.00</td>\n",
       "      <td>1920</td>\n",
       "      <td>655172</td>\n",
       "      <td>102.842</td>\n",
       "    </tr>\n",
       "    <tr>\n",
       "      <th>4</th>\n",
       "      <td>255.28000</td>\n",
       "      <td>320</td>\n",
       "      <td>250276</td>\n",
       "      <td>25.000000</td>\n",
       "      <td>110</td>\n",
       "      <td>6272</td>\n",
       "      <td>0</td>\n",
       "      <td>6382</td>\n",
       "      <td>611474</td>\n",
       "      <td>7374864</td>\n",
       "      <td>7986338</td>\n",
       "      <td>820000</td>\n",
       "      <td>25.00</td>\n",
       "      <td>1920</td>\n",
       "      <td>216820</td>\n",
       "      <td>14.937</td>\n",
       "    </tr>\n",
       "  </tbody>\n",
       "</table>\n",
       "</div>"
      ],
      "text/plain": [
       "    duration  width  bitrate  framerate    i      p    b  frames    i_size  \\\n",
       "0  645.84000    320    95903  25.032558  138  16008    0   16146   1081321   \n",
       "1  326.58832   1920  5999648  23.000000  174   7656    0    7830  16603953   \n",
       "2  473.00000    320   164017  25.000000  198  10924  704   11826   1419320   \n",
       "3  448.57500   1280  2052426  30.002232   92  13349    0   13441   9132637   \n",
       "4  255.28000    320   250276  25.000000  110   6272    0    6382    611474   \n",
       "\n",
       "      p_size       size  o_bitrate  o_framerate  o_width    umem    utime  \n",
       "0    6660941    7742262     109000        29.97     1280  218932   15.929  \n",
       "1  228322925  244926878     820000        29.97     1920  218932   10.417  \n",
       "2    8047423    9697521     242000        24.00     1920  645544   45.327  \n",
       "3  105950761  115083398    3000000        15.00     1920  655172  102.842  \n",
       "4    7374864    7986338     820000        25.00     1920  216820   14.937  "
      ]
     },
     "execution_count": 12,
     "metadata": {},
     "output_type": "execute_result"
    }
   ],
   "source": [
    "#Drop b_size because there are just 0 \n",
    "\n",
    "df_num = df.drop([\"id\",\"category\",\"codec\",\"height\",\"o_codec\",\"o_height\",\"b_size\"], axis= 1)\n",
    "\n",
    "df_num.head()"
   ]
  },
  {
   "cell_type": "code",
   "execution_count": 13,
   "metadata": {},
   "outputs": [
    {
     "data": {
      "text/html": [
       "<div>\n",
       "<style scoped>\n",
       "    .dataframe tbody tr th:only-of-type {\n",
       "        vertical-align: middle;\n",
       "    }\n",
       "\n",
       "    .dataframe tbody tr th {\n",
       "        vertical-align: top;\n",
       "    }\n",
       "\n",
       "    .dataframe thead th {\n",
       "        text-align: right;\n",
       "    }\n",
       "</style>\n",
       "<table border=\"1\" class=\"dataframe\">\n",
       "  <thead>\n",
       "    <tr style=\"text-align: right;\">\n",
       "      <th></th>\n",
       "      <th>duration</th>\n",
       "      <th>width</th>\n",
       "      <th>bitrate</th>\n",
       "      <th>framerate</th>\n",
       "      <th>i</th>\n",
       "      <th>p</th>\n",
       "      <th>b</th>\n",
       "      <th>frames</th>\n",
       "      <th>i_size</th>\n",
       "      <th>p_size</th>\n",
       "      <th>size</th>\n",
       "      <th>o_bitrate</th>\n",
       "      <th>o_framerate</th>\n",
       "      <th>o_width</th>\n",
       "      <th>umem</th>\n",
       "      <th>utime</th>\n",
       "    </tr>\n",
       "  </thead>\n",
       "  <tbody>\n",
       "    <tr>\n",
       "      <th>count</th>\n",
       "      <td>12000.000000</td>\n",
       "      <td>12000.000000</td>\n",
       "      <td>1.200000e+04</td>\n",
       "      <td>12000.000000</td>\n",
       "      <td>12000.000000</td>\n",
       "      <td>12000.000000</td>\n",
       "      <td>12000.000000</td>\n",
       "      <td>12000.000000</td>\n",
       "      <td>1.200000e+04</td>\n",
       "      <td>1.200000e+04</td>\n",
       "      <td>1.200000e+04</td>\n",
       "      <td>1.200000e+04</td>\n",
       "      <td>12000.000000</td>\n",
       "      <td>12000.000000</td>\n",
       "      <td>12000.000000</td>\n",
       "      <td>12000.000000</td>\n",
       "    </tr>\n",
       "    <tr>\n",
       "      <th>mean</th>\n",
       "      <td>285.682716</td>\n",
       "      <td>732.040000</td>\n",
       "      <td>1.021929e+06</td>\n",
       "      <td>24.047193</td>\n",
       "      <td>102.238500</td>\n",
       "      <td>6739.644417</td>\n",
       "      <td>8.541250</td>\n",
       "      <td>6850.424167</td>\n",
       "      <td>3.275502e+06</td>\n",
       "      <td>3.068757e+07</td>\n",
       "      <td>3.396592e+07</td>\n",
       "      <td>1.609223e+06</td>\n",
       "      <td>22.389475</td>\n",
       "      <td>1362.112000</td>\n",
       "      <td>296054.137333</td>\n",
       "      <td>28.092689</td>\n",
       "    </tr>\n",
       "    <tr>\n",
       "      <th>std</th>\n",
       "      <td>273.669721</td>\n",
       "      <td>541.014322</td>\n",
       "      <td>1.501773e+06</td>\n",
       "      <td>6.829639</td>\n",
       "      <td>83.873379</td>\n",
       "      <td>6405.047206</td>\n",
       "      <td>77.159695</td>\n",
       "      <td>6479.589846</td>\n",
       "      <td>4.821239e+06</td>\n",
       "      <td>6.327107e+07</td>\n",
       "      <td>6.715380e+07</td>\n",
       "      <td>1.825524e+06</td>\n",
       "      <td>6.421122</td>\n",
       "      <td>560.700761</td>\n",
       "      <td>162805.756293</td>\n",
       "      <td>23.432570</td>\n",
       "    </tr>\n",
       "    <tr>\n",
       "      <th>min</th>\n",
       "      <td>31.133000</td>\n",
       "      <td>176.000000</td>\n",
       "      <td>2.696800e+04</td>\n",
       "      <td>5.705752</td>\n",
       "      <td>7.000000</td>\n",
       "      <td>334.000000</td>\n",
       "      <td>0.000000</td>\n",
       "      <td>344.000000</td>\n",
       "      <td>1.438000e+04</td>\n",
       "      <td>2.029540e+05</td>\n",
       "      <td>2.289740e+05</td>\n",
       "      <td>5.600000e+04</td>\n",
       "      <td>12.000000</td>\n",
       "      <td>176.000000</td>\n",
       "      <td>34684.000000</td>\n",
       "      <td>10.001000</td>\n",
       "    </tr>\n",
       "    <tr>\n",
       "      <th>25%</th>\n",
       "      <td>95.462000</td>\n",
       "      <td>320.000000</td>\n",
       "      <td>1.868950e+05</td>\n",
       "      <td>23.000000</td>\n",
       "      <td>39.000000</td>\n",
       "      <td>2265.000000</td>\n",
       "      <td>0.000000</td>\n",
       "      <td>2318.000000</td>\n",
       "      <td>5.296270e+05</td>\n",
       "      <td>3.029350e+06</td>\n",
       "      <td>3.773200e+06</td>\n",
       "      <td>2.420000e+05</td>\n",
       "      <td>15.000000</td>\n",
       "      <td>640.000000</td>\n",
       "      <td>217080.000000</td>\n",
       "      <td>13.561000</td>\n",
       "    </tr>\n",
       "    <tr>\n",
       "      <th>50%</th>\n",
       "      <td>225.080000</td>\n",
       "      <td>480.000000</td>\n",
       "      <td>3.824610e+05</td>\n",
       "      <td>25.039877</td>\n",
       "      <td>80.000000</td>\n",
       "      <td>5515.000000</td>\n",
       "      <td>0.000000</td>\n",
       "      <td>5628.000000</td>\n",
       "      <td>1.259657e+06</td>\n",
       "      <td>6.965881e+06</td>\n",
       "      <td>9.656655e+06</td>\n",
       "      <td>5.390000e+05</td>\n",
       "      <td>24.000000</td>\n",
       "      <td>1280.000000</td>\n",
       "      <td>219480.000000</td>\n",
       "      <td>19.437000</td>\n",
       "    </tr>\n",
       "    <tr>\n",
       "      <th>75%</th>\n",
       "      <td>379.320000</td>\n",
       "      <td>1280.000000</td>\n",
       "      <td>1.055982e+06</td>\n",
       "      <td>29.968605</td>\n",
       "      <td>143.000000</td>\n",
       "      <td>9134.000000</td>\n",
       "      <td>0.000000</td>\n",
       "      <td>9208.000000</td>\n",
       "      <td>3.818903e+06</td>\n",
       "      <td>2.841694e+07</td>\n",
       "      <td>2.925619e+07</td>\n",
       "      <td>3.000000e+06</td>\n",
       "      <td>25.000000</td>\n",
       "      <td>1920.000000</td>\n",
       "      <td>318674.000000</td>\n",
       "      <td>33.494000</td>\n",
       "    </tr>\n",
       "    <tr>\n",
       "      <th>max</th>\n",
       "      <td>2554.440000</td>\n",
       "      <td>1920.000000</td>\n",
       "      <td>7.628466e+06</td>\n",
       "      <td>48.000000</td>\n",
       "      <td>1988.000000</td>\n",
       "      <td>62489.000000</td>\n",
       "      <td>1007.000000</td>\n",
       "      <td>63862.000000</td>\n",
       "      <td>9.082855e+07</td>\n",
       "      <td>7.689970e+08</td>\n",
       "      <td>8.067111e+08</td>\n",
       "      <td>5.000000e+06</td>\n",
       "      <td>29.970000</td>\n",
       "      <td>1920.000000</td>\n",
       "      <td>711824.000000</td>\n",
       "      <td>214.481000</td>\n",
       "    </tr>\n",
       "  </tbody>\n",
       "</table>\n",
       "</div>"
      ],
      "text/plain": [
       "           duration         width       bitrate     framerate             i  \\\n",
       "count  12000.000000  12000.000000  1.200000e+04  12000.000000  12000.000000   \n",
       "mean     285.682716    732.040000  1.021929e+06     24.047193    102.238500   \n",
       "std      273.669721    541.014322  1.501773e+06      6.829639     83.873379   \n",
       "min       31.133000    176.000000  2.696800e+04      5.705752      7.000000   \n",
       "25%       95.462000    320.000000  1.868950e+05     23.000000     39.000000   \n",
       "50%      225.080000    480.000000  3.824610e+05     25.039877     80.000000   \n",
       "75%      379.320000   1280.000000  1.055982e+06     29.968605    143.000000   \n",
       "max     2554.440000   1920.000000  7.628466e+06     48.000000   1988.000000   \n",
       "\n",
       "                  p             b        frames        i_size        p_size  \\\n",
       "count  12000.000000  12000.000000  12000.000000  1.200000e+04  1.200000e+04   \n",
       "mean    6739.644417      8.541250   6850.424167  3.275502e+06  3.068757e+07   \n",
       "std     6405.047206     77.159695   6479.589846  4.821239e+06  6.327107e+07   \n",
       "min      334.000000      0.000000    344.000000  1.438000e+04  2.029540e+05   \n",
       "25%     2265.000000      0.000000   2318.000000  5.296270e+05  3.029350e+06   \n",
       "50%     5515.000000      0.000000   5628.000000  1.259657e+06  6.965881e+06   \n",
       "75%     9134.000000      0.000000   9208.000000  3.818903e+06  2.841694e+07   \n",
       "max    62489.000000   1007.000000  63862.000000  9.082855e+07  7.689970e+08   \n",
       "\n",
       "               size     o_bitrate   o_framerate       o_width           umem  \\\n",
       "count  1.200000e+04  1.200000e+04  12000.000000  12000.000000   12000.000000   \n",
       "mean   3.396592e+07  1.609223e+06     22.389475   1362.112000  296054.137333   \n",
       "std    6.715380e+07  1.825524e+06      6.421122    560.700761  162805.756293   \n",
       "min    2.289740e+05  5.600000e+04     12.000000    176.000000   34684.000000   \n",
       "25%    3.773200e+06  2.420000e+05     15.000000    640.000000  217080.000000   \n",
       "50%    9.656655e+06  5.390000e+05     24.000000   1280.000000  219480.000000   \n",
       "75%    2.925619e+07  3.000000e+06     25.000000   1920.000000  318674.000000   \n",
       "max    8.067111e+08  5.000000e+06     29.970000   1920.000000  711824.000000   \n",
       "\n",
       "              utime  \n",
       "count  12000.000000  \n",
       "mean      28.092689  \n",
       "std       23.432570  \n",
       "min       10.001000  \n",
       "25%       13.561000  \n",
       "50%       19.437000  \n",
       "75%       33.494000  \n",
       "max      214.481000  "
      ]
     },
     "execution_count": 13,
     "metadata": {},
     "output_type": "execute_result"
    }
   ],
   "source": [
    "df_num.describe()"
   ]
  },
  {
   "cell_type": "code",
   "execution_count": 14,
   "metadata": {},
   "outputs": [
    {
     "data": {
      "image/png": "[encoded data removed]",
      "text/plain": [
       "<Figure size 1440x720 with 16 Axes>"
      ]
     },
     "metadata": {
      "needs_background": "light"
     },
     "output_type": "display_data"
    }
   ],
   "source": [
    "df_num.hist(figsize=(20,10))\n",
    "plt.show()"
   ]
  },
  {
   "cell_type": "code",
   "execution_count": 15,
   "metadata": {
    "scrolled": true
   },
   "outputs": [
    {
     "data": {
      "image/png": "[encoded data removed]",
      "text/plain": [
       "<Figure size 1440x720 with 2 Axes>"
      ]
     },
     "metadata": {
      "needs_background": "light"
     },
     "output_type": "display_data"
    }
   ],
   "source": [
    "#We can visualise the correlation using a heatmap in Seaborn\n",
    "\n",
    "import matplotlib.pyplot as plt\n",
    "import seaborn as sns\n",
    "%matplotlib inline\n",
    "\n",
    "plt.figure(figsize = (20,10))\n",
    "sns.heatmap(data=df_num.corr().round(2), cmap='coolwarm', linewidths=0.1, annot=True, annot_kws={\"size\":10})\n",
    "plt.show()"
   ]
  },
  {
   "cell_type": "markdown",
   "metadata": {},
   "source": [
    "### Dummies"
   ]
  },
  {
   "cell_type": "code",
   "execution_count": 16,
   "metadata": {
    "scrolled": true
   },
   "outputs": [
    {
     "data": {
      "text/html": [
       "<div>\n",
       "<style scoped>\n",
       "    .dataframe tbody tr th:only-of-type {\n",
       "        vertical-align: middle;\n",
       "    }\n",
       "\n",
       "    .dataframe tbody tr th {\n",
       "        vertical-align: top;\n",
       "    }\n",
       "\n",
       "    .dataframe thead th {\n",
       "        text-align: right;\n",
       "    }\n",
       "</style>\n",
       "<table border=\"1\" class=\"dataframe\">\n",
       "  <thead>\n",
       "    <tr style=\"text-align: right;\">\n",
       "      <th></th>\n",
       "      <th>codec_flv</th>\n",
       "      <th>codec_h264</th>\n",
       "      <th>codec_mpeg4</th>\n",
       "      <th>codec_vp8</th>\n",
       "      <th>height_1080</th>\n",
       "      <th>height_144</th>\n",
       "      <th>height_240</th>\n",
       "      <th>height_360</th>\n",
       "      <th>height_480</th>\n",
       "      <th>height_720</th>\n",
       "      <th>o_codec_flv</th>\n",
       "      <th>o_codec_h264</th>\n",
       "      <th>o_codec_mpeg4</th>\n",
       "      <th>o_codec_vp8</th>\n",
       "      <th>o_height_1080</th>\n",
       "      <th>o_height_144</th>\n",
       "      <th>o_height_240</th>\n",
       "      <th>o_height_360</th>\n",
       "      <th>o_height_480</th>\n",
       "      <th>o_height_720</th>\n",
       "    </tr>\n",
       "  </thead>\n",
       "  <tbody>\n",
       "    <tr>\n",
       "      <th>11995</th>\n",
       "      <td>0</td>\n",
       "      <td>0</td>\n",
       "      <td>1</td>\n",
       "      <td>0</td>\n",
       "      <td>0</td>\n",
       "      <td>1</td>\n",
       "      <td>0</td>\n",
       "      <td>0</td>\n",
       "      <td>0</td>\n",
       "      <td>0</td>\n",
       "      <td>0</td>\n",
       "      <td>1</td>\n",
       "      <td>0</td>\n",
       "      <td>0</td>\n",
       "      <td>0</td>\n",
       "      <td>0</td>\n",
       "      <td>0</td>\n",
       "      <td>0</td>\n",
       "      <td>0</td>\n",
       "      <td>1</td>\n",
       "    </tr>\n",
       "    <tr>\n",
       "      <th>11996</th>\n",
       "      <td>0</td>\n",
       "      <td>1</td>\n",
       "      <td>0</td>\n",
       "      <td>0</td>\n",
       "      <td>0</td>\n",
       "      <td>0</td>\n",
       "      <td>0</td>\n",
       "      <td>1</td>\n",
       "      <td>0</td>\n",
       "      <td>0</td>\n",
       "      <td>0</td>\n",
       "      <td>1</td>\n",
       "      <td>0</td>\n",
       "      <td>0</td>\n",
       "      <td>1</td>\n",
       "      <td>0</td>\n",
       "      <td>0</td>\n",
       "      <td>0</td>\n",
       "      <td>0</td>\n",
       "      <td>0</td>\n",
       "    </tr>\n",
       "    <tr>\n",
       "      <th>11997</th>\n",
       "      <td>0</td>\n",
       "      <td>0</td>\n",
       "      <td>0</td>\n",
       "      <td>1</td>\n",
       "      <td>0</td>\n",
       "      <td>0</td>\n",
       "      <td>0</td>\n",
       "      <td>0</td>\n",
       "      <td>0</td>\n",
       "      <td>1</td>\n",
       "      <td>0</td>\n",
       "      <td>1</td>\n",
       "      <td>0</td>\n",
       "      <td>0</td>\n",
       "      <td>0</td>\n",
       "      <td>0</td>\n",
       "      <td>0</td>\n",
       "      <td>0</td>\n",
       "      <td>0</td>\n",
       "      <td>1</td>\n",
       "    </tr>\n",
       "    <tr>\n",
       "      <th>11998</th>\n",
       "      <td>0</td>\n",
       "      <td>1</td>\n",
       "      <td>0</td>\n",
       "      <td>0</td>\n",
       "      <td>0</td>\n",
       "      <td>0</td>\n",
       "      <td>1</td>\n",
       "      <td>0</td>\n",
       "      <td>0</td>\n",
       "      <td>0</td>\n",
       "      <td>0</td>\n",
       "      <td>1</td>\n",
       "      <td>0</td>\n",
       "      <td>0</td>\n",
       "      <td>0</td>\n",
       "      <td>0</td>\n",
       "      <td>0</td>\n",
       "      <td>0</td>\n",
       "      <td>0</td>\n",
       "      <td>1</td>\n",
       "    </tr>\n",
       "    <tr>\n",
       "      <th>11999</th>\n",
       "      <td>0</td>\n",
       "      <td>0</td>\n",
       "      <td>0</td>\n",
       "      <td>1</td>\n",
       "      <td>0</td>\n",
       "      <td>0</td>\n",
       "      <td>0</td>\n",
       "      <td>1</td>\n",
       "      <td>0</td>\n",
       "      <td>0</td>\n",
       "      <td>0</td>\n",
       "      <td>0</td>\n",
       "      <td>1</td>\n",
       "      <td>0</td>\n",
       "      <td>1</td>\n",
       "      <td>0</td>\n",
       "      <td>0</td>\n",
       "      <td>0</td>\n",
       "      <td>0</td>\n",
       "      <td>0</td>\n",
       "    </tr>\n",
       "  </tbody>\n",
       "</table>\n",
       "</div>"
      ],
      "text/plain": [
       "       codec_flv  codec_h264  codec_mpeg4  codec_vp8  height_1080  height_144  \\\n",
       "11995          0           0            1          0            0           1   \n",
       "11996          0           1            0          0            0           0   \n",
       "11997          0           0            0          1            0           0   \n",
       "11998          0           1            0          0            0           0   \n",
       "11999          0           0            0          1            0           0   \n",
       "\n",
       "       height_240  height_360  height_480  height_720  o_codec_flv  \\\n",
       "11995           0           0           0           0            0   \n",
       "11996           0           1           0           0            0   \n",
       "11997           0           0           0           1            0   \n",
       "11998           1           0           0           0            0   \n",
       "11999           0           1           0           0            0   \n",
       "\n",
       "       o_codec_h264  o_codec_mpeg4  o_codec_vp8  o_height_1080  o_height_144  \\\n",
       "11995             1              0            0              0             0   \n",
       "11996             1              0            0              1             0   \n",
       "11997             1              0            0              0             0   \n",
       "11998             1              0            0              0             0   \n",
       "11999             0              1            0              1             0   \n",
       "\n",
       "       o_height_240  o_height_360  o_height_480  o_height_720  \n",
       "11995             0             0             0             1  \n",
       "11996             0             0             0             0  \n",
       "11997             0             0             0             1  \n",
       "11998             0             0             0             1  \n",
       "11999             0             0             0             0  "
      ]
     },
     "execution_count": 16,
     "metadata": {},
     "output_type": "execute_result"
    }
   ],
   "source": [
    "#Converting categorical into dummies \n",
    "dummies = pd.get_dummies(df_cat.astype(str)) \n",
    "\n",
    "dummies.tail()"
   ]
  },
  {
   "cell_type": "markdown",
   "metadata": {},
   "source": [
    "### Concatenation"
   ]
  },
  {
   "cell_type": "code",
   "execution_count": 17,
   "metadata": {},
   "outputs": [
    {
     "data": {
      "text/html": [
       "<div>\n",
       "<style scoped>\n",
       "    .dataframe tbody tr th:only-of-type {\n",
       "        vertical-align: middle;\n",
       "    }\n",
       "\n",
       "    .dataframe tbody tr th {\n",
       "        vertical-align: top;\n",
       "    }\n",
       "\n",
       "    .dataframe thead th {\n",
       "        text-align: right;\n",
       "    }\n",
       "</style>\n",
       "<table border=\"1\" class=\"dataframe\">\n",
       "  <thead>\n",
       "    <tr style=\"text-align: right;\">\n",
       "      <th></th>\n",
       "      <th>duration</th>\n",
       "      <th>width</th>\n",
       "      <th>bitrate</th>\n",
       "      <th>framerate</th>\n",
       "      <th>i</th>\n",
       "      <th>p</th>\n",
       "      <th>b</th>\n",
       "      <th>frames</th>\n",
       "      <th>i_size</th>\n",
       "      <th>p_size</th>\n",
       "      <th>...</th>\n",
       "      <th>o_codec_flv</th>\n",
       "      <th>o_codec_h264</th>\n",
       "      <th>o_codec_mpeg4</th>\n",
       "      <th>o_codec_vp8</th>\n",
       "      <th>o_height_1080</th>\n",
       "      <th>o_height_144</th>\n",
       "      <th>o_height_240</th>\n",
       "      <th>o_height_360</th>\n",
       "      <th>o_height_480</th>\n",
       "      <th>o_height_720</th>\n",
       "    </tr>\n",
       "  </thead>\n",
       "  <tbody>\n",
       "    <tr>\n",
       "      <th>0</th>\n",
       "      <td>645.84000</td>\n",
       "      <td>320</td>\n",
       "      <td>95903</td>\n",
       "      <td>25.032558</td>\n",
       "      <td>138</td>\n",
       "      <td>16008</td>\n",
       "      <td>0</td>\n",
       "      <td>16146</td>\n",
       "      <td>1081321</td>\n",
       "      <td>6660941</td>\n",
       "      <td>...</td>\n",
       "      <td>0</td>\n",
       "      <td>0</td>\n",
       "      <td>0</td>\n",
       "      <td>1</td>\n",
       "      <td>0</td>\n",
       "      <td>0</td>\n",
       "      <td>0</td>\n",
       "      <td>0</td>\n",
       "      <td>0</td>\n",
       "      <td>1</td>\n",
       "    </tr>\n",
       "    <tr>\n",
       "      <th>1</th>\n",
       "      <td>326.58832</td>\n",
       "      <td>1920</td>\n",
       "      <td>5999648</td>\n",
       "      <td>23.000000</td>\n",
       "      <td>174</td>\n",
       "      <td>7656</td>\n",
       "      <td>0</td>\n",
       "      <td>7830</td>\n",
       "      <td>16603953</td>\n",
       "      <td>228322925</td>\n",
       "      <td>...</td>\n",
       "      <td>1</td>\n",
       "      <td>0</td>\n",
       "      <td>0</td>\n",
       "      <td>0</td>\n",
       "      <td>1</td>\n",
       "      <td>0</td>\n",
       "      <td>0</td>\n",
       "      <td>0</td>\n",
       "      <td>0</td>\n",
       "      <td>0</td>\n",
       "    </tr>\n",
       "    <tr>\n",
       "      <th>2</th>\n",
       "      <td>473.00000</td>\n",
       "      <td>320</td>\n",
       "      <td>164017</td>\n",
       "      <td>25.000000</td>\n",
       "      <td>198</td>\n",
       "      <td>10924</td>\n",
       "      <td>704</td>\n",
       "      <td>11826</td>\n",
       "      <td>1419320</td>\n",
       "      <td>8047423</td>\n",
       "      <td>...</td>\n",
       "      <td>0</td>\n",
       "      <td>1</td>\n",
       "      <td>0</td>\n",
       "      <td>0</td>\n",
       "      <td>1</td>\n",
       "      <td>0</td>\n",
       "      <td>0</td>\n",
       "      <td>0</td>\n",
       "      <td>0</td>\n",
       "      <td>0</td>\n",
       "    </tr>\n",
       "    <tr>\n",
       "      <th>3</th>\n",
       "      <td>448.57500</td>\n",
       "      <td>1280</td>\n",
       "      <td>2052426</td>\n",
       "      <td>30.002232</td>\n",
       "      <td>92</td>\n",
       "      <td>13349</td>\n",
       "      <td>0</td>\n",
       "      <td>13441</td>\n",
       "      <td>9132637</td>\n",
       "      <td>105950761</td>\n",
       "      <td>...</td>\n",
       "      <td>0</td>\n",
       "      <td>1</td>\n",
       "      <td>0</td>\n",
       "      <td>0</td>\n",
       "      <td>1</td>\n",
       "      <td>0</td>\n",
       "      <td>0</td>\n",
       "      <td>0</td>\n",
       "      <td>0</td>\n",
       "      <td>0</td>\n",
       "    </tr>\n",
       "    <tr>\n",
       "      <th>4</th>\n",
       "      <td>255.28000</td>\n",
       "      <td>320</td>\n",
       "      <td>250276</td>\n",
       "      <td>25.000000</td>\n",
       "      <td>110</td>\n",
       "      <td>6272</td>\n",
       "      <td>0</td>\n",
       "      <td>6382</td>\n",
       "      <td>611474</td>\n",
       "      <td>7374864</td>\n",
       "      <td>...</td>\n",
       "      <td>0</td>\n",
       "      <td>0</td>\n",
       "      <td>1</td>\n",
       "      <td>0</td>\n",
       "      <td>1</td>\n",
       "      <td>0</td>\n",
       "      <td>0</td>\n",
       "      <td>0</td>\n",
       "      <td>0</td>\n",
       "      <td>0</td>\n",
       "    </tr>\n",
       "  </tbody>\n",
       "</table>\n",
       "<p>5 rows × 36 columns</p>\n",
       "</div>"
      ],
      "text/plain": [
       "    duration  width  bitrate  framerate    i      p    b  frames    i_size  \\\n",
       "0  645.84000    320    95903  25.032558  138  16008    0   16146   1081321   \n",
       "1  326.58832   1920  5999648  23.000000  174   7656    0    7830  16603953   \n",
       "2  473.00000    320   164017  25.000000  198  10924  704   11826   1419320   \n",
       "3  448.57500   1280  2052426  30.002232   92  13349    0   13441   9132637   \n",
       "4  255.28000    320   250276  25.000000  110   6272    0    6382    611474   \n",
       "\n",
       "      p_size  ...  o_codec_flv  o_codec_h264  o_codec_mpeg4  o_codec_vp8  \\\n",
       "0    6660941  ...            0             0              0            1   \n",
       "1  228322925  ...            1             0              0            0   \n",
       "2    8047423  ...            0             1              0            0   \n",
       "3  105950761  ...            0             1              0            0   \n",
       "4    7374864  ...            0             0              1            0   \n",
       "\n",
       "   o_height_1080  o_height_144  o_height_240  o_height_360  o_height_480  \\\n",
       "0              0             0             0             0             0   \n",
       "1              1             0             0             0             0   \n",
       "2              1             0             0             0             0   \n",
       "3              1             0             0             0             0   \n",
       "4              1             0             0             0             0   \n",
       "\n",
       "   o_height_720  \n",
       "0             1  \n",
       "1             0  \n",
       "2             0  \n",
       "3             0  \n",
       "4             0  \n",
       "\n",
       "[5 rows x 36 columns]"
      ]
     },
     "execution_count": 17,
     "metadata": {},
     "output_type": "execute_result"
    }
   ],
   "source": [
    "#concatenation of dummies and numerical variables\n",
    "df_new = pd.concat([df_num,dummies], axis = 1)\n",
    "\n",
    "df_new.head()"
   ]
  },
  {
   "cell_type": "markdown",
   "metadata": {},
   "source": [
    "## Train Models and Test"
   ]
  },
  {
   "cell_type": "markdown",
   "metadata": {},
   "source": [
    "### Scaling"
   ]
  },
  {
   "cell_type": "code",
   "execution_count": 18,
   "metadata": {
    "scrolled": true
   },
   "outputs": [
    {
     "data": {
      "text/html": [
       "<div>\n",
       "<style scoped>\n",
       "    .dataframe tbody tr th:only-of-type {\n",
       "        vertical-align: middle;\n",
       "    }\n",
       "\n",
       "    .dataframe tbody tr th {\n",
       "        vertical-align: top;\n",
       "    }\n",
       "\n",
       "    .dataframe thead th {\n",
       "        text-align: right;\n",
       "    }\n",
       "</style>\n",
       "<table border=\"1\" class=\"dataframe\">\n",
       "  <thead>\n",
       "    <tr style=\"text-align: right;\">\n",
       "      <th></th>\n",
       "      <th>duration</th>\n",
       "      <th>width</th>\n",
       "      <th>bitrate</th>\n",
       "      <th>framerate</th>\n",
       "      <th>i</th>\n",
       "      <th>p</th>\n",
       "      <th>b</th>\n",
       "      <th>frames</th>\n",
       "      <th>i_size</th>\n",
       "      <th>p_size</th>\n",
       "      <th>...</th>\n",
       "      <th>o_codec_flv</th>\n",
       "      <th>o_codec_h264</th>\n",
       "      <th>o_codec_mpeg4</th>\n",
       "      <th>o_codec_vp8</th>\n",
       "      <th>o_height_1080</th>\n",
       "      <th>o_height_144</th>\n",
       "      <th>o_height_240</th>\n",
       "      <th>o_height_360</th>\n",
       "      <th>o_height_480</th>\n",
       "      <th>o_height_720</th>\n",
       "    </tr>\n",
       "  </thead>\n",
       "  <tbody>\n",
       "    <tr>\n",
       "      <th>0</th>\n",
       "      <td>0.243612</td>\n",
       "      <td>0.082569</td>\n",
       "      <td>0.009069</td>\n",
       "      <td>0.456961</td>\n",
       "      <td>0.066128</td>\n",
       "      <td>0.252176</td>\n",
       "      <td>0.000000</td>\n",
       "      <td>0.248780</td>\n",
       "      <td>0.011749</td>\n",
       "      <td>0.008400</td>\n",
       "      <td>...</td>\n",
       "      <td>0.0</td>\n",
       "      <td>0.0</td>\n",
       "      <td>0.0</td>\n",
       "      <td>1.0</td>\n",
       "      <td>0.0</td>\n",
       "      <td>0.0</td>\n",
       "      <td>0.0</td>\n",
       "      <td>0.0</td>\n",
       "      <td>0.0</td>\n",
       "      <td>1.0</td>\n",
       "    </tr>\n",
       "    <tr>\n",
       "      <th>1</th>\n",
       "      <td>0.117091</td>\n",
       "      <td>1.000000</td>\n",
       "      <td>0.785724</td>\n",
       "      <td>0.408903</td>\n",
       "      <td>0.084301</td>\n",
       "      <td>0.117802</td>\n",
       "      <td>0.000000</td>\n",
       "      <td>0.117856</td>\n",
       "      <td>0.182676</td>\n",
       "      <td>0.296724</td>\n",
       "      <td>...</td>\n",
       "      <td>1.0</td>\n",
       "      <td>0.0</td>\n",
       "      <td>0.0</td>\n",
       "      <td>0.0</td>\n",
       "      <td>1.0</td>\n",
       "      <td>0.0</td>\n",
       "      <td>0.0</td>\n",
       "      <td>0.0</td>\n",
       "      <td>0.0</td>\n",
       "      <td>0.0</td>\n",
       "    </tr>\n",
       "    <tr>\n",
       "      <th>2</th>\n",
       "      <td>0.175114</td>\n",
       "      <td>0.082569</td>\n",
       "      <td>0.018029</td>\n",
       "      <td>0.456191</td>\n",
       "      <td>0.096416</td>\n",
       "      <td>0.170381</td>\n",
       "      <td>0.699106</td>\n",
       "      <td>0.180768</td>\n",
       "      <td>0.015470</td>\n",
       "      <td>0.010204</td>\n",
       "      <td>...</td>\n",
       "      <td>0.0</td>\n",
       "      <td>1.0</td>\n",
       "      <td>0.0</td>\n",
       "      <td>0.0</td>\n",
       "      <td>1.0</td>\n",
       "      <td>0.0</td>\n",
       "      <td>0.0</td>\n",
       "      <td>0.0</td>\n",
       "      <td>0.0</td>\n",
       "      <td>0.0</td>\n",
       "    </tr>\n",
       "    <tr>\n",
       "      <th>3</th>\n",
       "      <td>0.165434</td>\n",
       "      <td>0.633028</td>\n",
       "      <td>0.266455</td>\n",
       "      <td>0.574463</td>\n",
       "      <td>0.042908</td>\n",
       "      <td>0.209396</td>\n",
       "      <td>0.000000</td>\n",
       "      <td>0.206194</td>\n",
       "      <td>0.100406</td>\n",
       "      <td>0.137550</td>\n",
       "      <td>...</td>\n",
       "      <td>0.0</td>\n",
       "      <td>1.0</td>\n",
       "      <td>0.0</td>\n",
       "      <td>0.0</td>\n",
       "      <td>1.0</td>\n",
       "      <td>0.0</td>\n",
       "      <td>0.0</td>\n",
       "      <td>0.0</td>\n",
       "      <td>0.0</td>\n",
       "      <td>0.0</td>\n",
       "    </tr>\n",
       "    <tr>\n",
       "      <th>4</th>\n",
       "      <td>0.088831</td>\n",
       "      <td>0.082569</td>\n",
       "      <td>0.029377</td>\n",
       "      <td>0.456191</td>\n",
       "      <td>0.051994</td>\n",
       "      <td>0.095535</td>\n",
       "      <td>0.000000</td>\n",
       "      <td>0.095060</td>\n",
       "      <td>0.006575</td>\n",
       "      <td>0.009329</td>\n",
       "      <td>...</td>\n",
       "      <td>0.0</td>\n",
       "      <td>0.0</td>\n",
       "      <td>1.0</td>\n",
       "      <td>0.0</td>\n",
       "      <td>1.0</td>\n",
       "      <td>0.0</td>\n",
       "      <td>0.0</td>\n",
       "      <td>0.0</td>\n",
       "      <td>0.0</td>\n",
       "      <td>0.0</td>\n",
       "    </tr>\n",
       "  </tbody>\n",
       "</table>\n",
       "<p>5 rows × 36 columns</p>\n",
       "</div>"
      ],
      "text/plain": [
       "   duration     width   bitrate  framerate         i         p         b  \\\n",
       "0  0.243612  0.082569  0.009069   0.456961  0.066128  0.252176  0.000000   \n",
       "1  0.117091  1.000000  0.785724   0.408903  0.084301  0.117802  0.000000   \n",
       "2  0.175114  0.082569  0.018029   0.456191  0.096416  0.170381  0.699106   \n",
       "3  0.165434  0.633028  0.266455   0.574463  0.042908  0.209396  0.000000   \n",
       "4  0.088831  0.082569  0.029377   0.456191  0.051994  0.095535  0.000000   \n",
       "\n",
       "     frames    i_size    p_size  ...  o_codec_flv  o_codec_h264  \\\n",
       "0  0.248780  0.011749  0.008400  ...          0.0           0.0   \n",
       "1  0.117856  0.182676  0.296724  ...          1.0           0.0   \n",
       "2  0.180768  0.015470  0.010204  ...          0.0           1.0   \n",
       "3  0.206194  0.100406  0.137550  ...          0.0           1.0   \n",
       "4  0.095060  0.006575  0.009329  ...          0.0           0.0   \n",
       "\n",
       "   o_codec_mpeg4  o_codec_vp8  o_height_1080  o_height_144  o_height_240  \\\n",
       "0            0.0          1.0            0.0           0.0           0.0   \n",
       "1            0.0          0.0            1.0           0.0           0.0   \n",
       "2            0.0          0.0            1.0           0.0           0.0   \n",
       "3            0.0          0.0            1.0           0.0           0.0   \n",
       "4            1.0          0.0            1.0           0.0           0.0   \n",
       "\n",
       "   o_height_360  o_height_480  o_height_720  \n",
       "0           0.0           0.0           1.0  \n",
       "1           0.0           0.0           0.0  \n",
       "2           0.0           0.0           0.0  \n",
       "3           0.0           0.0           0.0  \n",
       "4           0.0           0.0           0.0  \n",
       "\n",
       "[5 rows x 36 columns]"
      ]
     },
     "execution_count": 18,
     "metadata": {},
     "output_type": "execute_result"
    }
   ],
   "source": [
    "#Min-Max Scaling on Train and Test\n",
    "from sklearn.preprocessing import MinMaxScaler\n",
    "\n",
    "mm_scaler =  MinMaxScaler(copy=False,feature_range=(0, 1))\n",
    "\n",
    "scaled_df = pd.DataFrame(mm_scaler.fit_transform(df_new), columns = df_new.columns)\n",
    "\n",
    "scaled_df.head()"
   ]
  },
  {
   "cell_type": "markdown",
   "metadata": {},
   "source": [
    "### Target Variable"
   ]
  },
  {
   "cell_type": "code",
   "execution_count": 19,
   "metadata": {
    "scrolled": true
   },
   "outputs": [
    {
     "data": {
      "text/html": [
       "<div>\n",
       "<style scoped>\n",
       "    .dataframe tbody tr th:only-of-type {\n",
       "        vertical-align: middle;\n",
       "    }\n",
       "\n",
       "    .dataframe tbody tr th {\n",
       "        vertical-align: top;\n",
       "    }\n",
       "\n",
       "    .dataframe thead th {\n",
       "        text-align: right;\n",
       "    }\n",
       "</style>\n",
       "<table border=\"1\" class=\"dataframe\">\n",
       "  <thead>\n",
       "    <tr style=\"text-align: right;\">\n",
       "      <th></th>\n",
       "      <th>duration</th>\n",
       "      <th>width</th>\n",
       "      <th>bitrate</th>\n",
       "      <th>framerate</th>\n",
       "      <th>i</th>\n",
       "      <th>p</th>\n",
       "      <th>b</th>\n",
       "      <th>frames</th>\n",
       "      <th>i_size</th>\n",
       "      <th>p_size</th>\n",
       "      <th>...</th>\n",
       "      <th>o_codec_flv</th>\n",
       "      <th>o_codec_h264</th>\n",
       "      <th>o_codec_mpeg4</th>\n",
       "      <th>o_codec_vp8</th>\n",
       "      <th>o_height_1080</th>\n",
       "      <th>o_height_144</th>\n",
       "      <th>o_height_240</th>\n",
       "      <th>o_height_360</th>\n",
       "      <th>o_height_480</th>\n",
       "      <th>o_height_720</th>\n",
       "    </tr>\n",
       "  </thead>\n",
       "  <tbody>\n",
       "    <tr>\n",
       "      <th>0</th>\n",
       "      <td>0.243612</td>\n",
       "      <td>0.082569</td>\n",
       "      <td>0.009069</td>\n",
       "      <td>0.456961</td>\n",
       "      <td>0.066128</td>\n",
       "      <td>0.252176</td>\n",
       "      <td>0.000000</td>\n",
       "      <td>0.248780</td>\n",
       "      <td>0.011749</td>\n",
       "      <td>0.008400</td>\n",
       "      <td>...</td>\n",
       "      <td>0.0</td>\n",
       "      <td>0.0</td>\n",
       "      <td>0.0</td>\n",
       "      <td>1.0</td>\n",
       "      <td>0.0</td>\n",
       "      <td>0.0</td>\n",
       "      <td>0.0</td>\n",
       "      <td>0.0</td>\n",
       "      <td>0.0</td>\n",
       "      <td>1.0</td>\n",
       "    </tr>\n",
       "    <tr>\n",
       "      <th>1</th>\n",
       "      <td>0.117091</td>\n",
       "      <td>1.000000</td>\n",
       "      <td>0.785724</td>\n",
       "      <td>0.408903</td>\n",
       "      <td>0.084301</td>\n",
       "      <td>0.117802</td>\n",
       "      <td>0.000000</td>\n",
       "      <td>0.117856</td>\n",
       "      <td>0.182676</td>\n",
       "      <td>0.296724</td>\n",
       "      <td>...</td>\n",
       "      <td>1.0</td>\n",
       "      <td>0.0</td>\n",
       "      <td>0.0</td>\n",
       "      <td>0.0</td>\n",
       "      <td>1.0</td>\n",
       "      <td>0.0</td>\n",
       "      <td>0.0</td>\n",
       "      <td>0.0</td>\n",
       "      <td>0.0</td>\n",
       "      <td>0.0</td>\n",
       "    </tr>\n",
       "    <tr>\n",
       "      <th>2</th>\n",
       "      <td>0.175114</td>\n",
       "      <td>0.082569</td>\n",
       "      <td>0.018029</td>\n",
       "      <td>0.456191</td>\n",
       "      <td>0.096416</td>\n",
       "      <td>0.170381</td>\n",
       "      <td>0.699106</td>\n",
       "      <td>0.180768</td>\n",
       "      <td>0.015470</td>\n",
       "      <td>0.010204</td>\n",
       "      <td>...</td>\n",
       "      <td>0.0</td>\n",
       "      <td>1.0</td>\n",
       "      <td>0.0</td>\n",
       "      <td>0.0</td>\n",
       "      <td>1.0</td>\n",
       "      <td>0.0</td>\n",
       "      <td>0.0</td>\n",
       "      <td>0.0</td>\n",
       "      <td>0.0</td>\n",
       "      <td>0.0</td>\n",
       "    </tr>\n",
       "    <tr>\n",
       "      <th>3</th>\n",
       "      <td>0.165434</td>\n",
       "      <td>0.633028</td>\n",
       "      <td>0.266455</td>\n",
       "      <td>0.574463</td>\n",
       "      <td>0.042908</td>\n",
       "      <td>0.209396</td>\n",
       "      <td>0.000000</td>\n",
       "      <td>0.206194</td>\n",
       "      <td>0.100406</td>\n",
       "      <td>0.137550</td>\n",
       "      <td>...</td>\n",
       "      <td>0.0</td>\n",
       "      <td>1.0</td>\n",
       "      <td>0.0</td>\n",
       "      <td>0.0</td>\n",
       "      <td>1.0</td>\n",
       "      <td>0.0</td>\n",
       "      <td>0.0</td>\n",
       "      <td>0.0</td>\n",
       "      <td>0.0</td>\n",
       "      <td>0.0</td>\n",
       "    </tr>\n",
       "    <tr>\n",
       "      <th>4</th>\n",
       "      <td>0.088831</td>\n",
       "      <td>0.082569</td>\n",
       "      <td>0.029377</td>\n",
       "      <td>0.456191</td>\n",
       "      <td>0.051994</td>\n",
       "      <td>0.095535</td>\n",
       "      <td>0.000000</td>\n",
       "      <td>0.095060</td>\n",
       "      <td>0.006575</td>\n",
       "      <td>0.009329</td>\n",
       "      <td>...</td>\n",
       "      <td>0.0</td>\n",
       "      <td>0.0</td>\n",
       "      <td>1.0</td>\n",
       "      <td>0.0</td>\n",
       "      <td>1.0</td>\n",
       "      <td>0.0</td>\n",
       "      <td>0.0</td>\n",
       "      <td>0.0</td>\n",
       "      <td>0.0</td>\n",
       "      <td>0.0</td>\n",
       "    </tr>\n",
       "  </tbody>\n",
       "</table>\n",
       "<p>5 rows × 35 columns</p>\n",
       "</div>"
      ],
      "text/plain": [
       "   duration     width   bitrate  framerate         i         p         b  \\\n",
       "0  0.243612  0.082569  0.009069   0.456961  0.066128  0.252176  0.000000   \n",
       "1  0.117091  1.000000  0.785724   0.408903  0.084301  0.117802  0.000000   \n",
       "2  0.175114  0.082569  0.018029   0.456191  0.096416  0.170381  0.699106   \n",
       "3  0.165434  0.633028  0.266455   0.574463  0.042908  0.209396  0.000000   \n",
       "4  0.088831  0.082569  0.029377   0.456191  0.051994  0.095535  0.000000   \n",
       "\n",
       "     frames    i_size    p_size  ...  o_codec_flv  o_codec_h264  \\\n",
       "0  0.248780  0.011749  0.008400  ...          0.0           0.0   \n",
       "1  0.117856  0.182676  0.296724  ...          1.0           0.0   \n",
       "2  0.180768  0.015470  0.010204  ...          0.0           1.0   \n",
       "3  0.206194  0.100406  0.137550  ...          0.0           1.0   \n",
       "4  0.095060  0.006575  0.009329  ...          0.0           0.0   \n",
       "\n",
       "   o_codec_mpeg4  o_codec_vp8  o_height_1080  o_height_144  o_height_240  \\\n",
       "0            0.0          1.0            0.0           0.0           0.0   \n",
       "1            0.0          0.0            1.0           0.0           0.0   \n",
       "2            0.0          0.0            1.0           0.0           0.0   \n",
       "3            0.0          0.0            1.0           0.0           0.0   \n",
       "4            1.0          0.0            1.0           0.0           0.0   \n",
       "\n",
       "   o_height_360  o_height_480  o_height_720  \n",
       "0           0.0           0.0           1.0  \n",
       "1           0.0           0.0           0.0  \n",
       "2           0.0           0.0           0.0  \n",
       "3           0.0           0.0           0.0  \n",
       "4           0.0           0.0           0.0  \n",
       "\n",
       "[5 rows x 35 columns]"
      ]
     },
     "execution_count": 19,
     "metadata": {},
     "output_type": "execute_result"
    }
   ],
   "source": [
    "X = scaled_df.drop([\"utime\"],axis=1)\n",
    "y = df[\"utime\"]\n",
    "\n",
    "X.head()"
   ]
  },
  {
   "cell_type": "code",
   "execution_count": 20,
   "metadata": {
    "scrolled": true
   },
   "outputs": [
    {
     "data": {
      "text/plain": [
       "0     15.929\n",
       "1     10.417\n",
       "2     45.327\n",
       "3    102.842\n",
       "4     14.937\n",
       "Name: utime, dtype: float64"
      ]
     },
     "execution_count": 20,
     "metadata": {},
     "output_type": "execute_result"
    }
   ],
   "source": [
    "y.head()"
   ]
  },
  {
   "cell_type": "markdown",
   "metadata": {},
   "source": [
    "### Split Train and Test"
   ]
  },
  {
   "cell_type": "code",
   "execution_count": 21,
   "metadata": {},
   "outputs": [
    {
     "name": "stdout",
     "output_type": "stream",
     "text": [
      "(10200, 35) (1800, 35)\n"
     ]
    }
   ],
   "source": [
    "from sklearn.model_selection import train_test_split\n",
    "\n",
    "#SPLIT DATA INTO TRAIN AND TEST SET\n",
    "X_train, X_test, y_train, y_test = train_test_split(X, y, \n",
    "                                                    test_size =0.15, \n",
    "                                                    random_state = 123) \n",
    "\n",
    "print(X_train.shape, X_test.shape)"
   ]
  },
  {
   "cell_type": "markdown",
   "metadata": {},
   "source": [
    "### Grid Search"
   ]
  },
  {
   "cell_type": "code",
   "execution_count": 22,
   "metadata": {},
   "outputs": [],
   "source": [
    "from sklearn.model_selection import GridSearchCV\n",
    "\n",
    "def gs_regression(model, par) :\n",
    "    gs = GridSearchCV(model, par,cv=3,scoring ='neg_mean_absolute_error') \n",
    "    gs = gs.fit(X_train,y_train)\n",
    "\n",
    "    #summarize the results of your GRIDSEARCH\n",
    "    print('***GRIDSEARCH RESULTS***')\n",
    "    print(\"Best score: %f using %s\" % (gs.best_score_, gs.best_params_))\n",
    "    means = gs.cv_results_['mean_test_score']\n",
    "    stds = gs.cv_results_['std_test_score']\n",
    "    params = gs.cv_results_['params']\n",
    "    #for mean, stdev, param in zip(means, stds, params):\n",
    "    #    print(\"%f (%f) with: %r\" % (mean, stdev, param))\n",
    "    \n",
    "    y_pred_train=gs.predict(X_train)\n",
    "    y_pred_test=gs.predict(X_test) \n",
    "        \n",
    "    from sklearn import metrics\n",
    "    print()\n",
    "    print(\"MAE  train %.3f    test %06.3f\" % (metrics.mean_absolute_error(y_train, y_pred_train), metrics.mean_absolute_error(y_test, y_pred_test) ) )\n",
    "    print(\"MSE  train %.3f test %.3f\" % (metrics.mean_squared_error(y_train, y_pred_train), metrics.mean_squared_error(y_test, y_pred_test)) ) \n",
    "    print(\"RMSE train %.3f   test %.3f\" % (np.sqrt(metrics.mean_squared_error(y_train, y_pred_train)), np.sqrt(metrics.mean_squared_error(y_test, y_pred_test))) ) \n",
    "    print(\"r2   train %.3f     test %.3f\" % (metrics.r2_score(y_train, y_pred_train), metrics.r2_score(y_test, y_pred_test)) )"
   ]
  },
  {
   "cell_type": "markdown",
   "metadata": {},
   "source": [
    "### Train and Test Different Models"
   ]
  },
  {
   "cell_type": "markdown",
   "metadata": {},
   "source": [
    "#### best Result -- Random Forest"
   ]
  },
  {
   "cell_type": "code",
   "execution_count": 23,
   "metadata": {
    "scrolled": true
   },
   "outputs": [
    {
     "name": "stdout",
     "output_type": "stream",
     "text": [
      "***GRIDSEARCH RESULTS***\n",
      "Best score: -3.934833 using {'min_samples_leaf': 10, 'min_samples_split': 10, 'n_estimators': 200}\n",
      "\n",
      "MAE  train 2.857    test 03.578\n",
      "MSE  train 25.261 test 36.960\n",
      "RMSE train 5.026   test 6.079\n",
      "r2   train 0.954     test 0.933\n"
     ]
    }
   ],
   "source": [
    "from sklearn.ensemble import RandomForestRegressor \n",
    "\n",
    "regressor = RandomForestRegressor()\n",
    "parameters = {\"n_estimators\":[200] ,\n",
    "              \"min_samples_leaf\": [10], \"min_samples_split\": [10]}\n",
    "\n",
    "gs_regression(regressor, parameters)"
   ]
  },
  {
   "cell_type": "markdown",
   "metadata": {},
   "source": [
    "#### The others"
   ]
  },
  {
   "cell_type": "code",
   "execution_count": 24,
   "metadata": {},
   "outputs": [
    {
     "name": "stdout",
     "output_type": "stream",
     "text": [
      "***GRIDSEARCH RESULTS***\n",
      "Best score: -3042644.380030 using {}\n",
      "\n",
      "MAE  train 9.194    test 09.756\n",
      "MSE  train 188.388 test 202.766\n",
      "RMSE train 13.725   test 14.240\n",
      "r2   train 0.657     test 0.630\n"
     ]
    }
   ],
   "source": [
    "from sklearn.linear_model import LinearRegression\n",
    "\n",
    "regressor = LinearRegression() \n",
    "parameters = {}\n",
    "\n",
    "gs_regression(regressor, parameters)"
   ]
  },
  {
   "cell_type": "code",
   "execution_count": 25,
   "metadata": {},
   "outputs": [
    {
     "name": "stdout",
     "output_type": "stream",
     "text": [
      "***GRIDSEARCH RESULTS***\n",
      "Best score: -8.895156 using {'alpha': 0.1, 'normalize': True}\n",
      "\n",
      "MAE  train 8.866    test 09.356\n",
      "MSE  train 191.864 test 205.052\n",
      "RMSE train 13.851   test 14.320\n",
      "r2   train 0.651     test 0.626\n"
     ]
    }
   ],
   "source": [
    "from sklearn.linear_model import Ridge\n",
    "\n",
    "regressor = Ridge()\n",
    "parameters = {\"alpha\": [0.001,0.01,0.1,1,10], \"normalize\": [True, False]}\n",
    "\n",
    "gs_regression(regressor, parameters)"
   ]
  },
  {
   "cell_type": "code",
   "execution_count": 26,
   "metadata": {},
   "outputs": [
    {
     "name": "stdout",
     "output_type": "stream",
     "text": [
      "***GRIDSEARCH RESULTS***\n",
      "Best score: -9.034562 using {'alpha': 0.01, 'normalize': True}\n",
      "\n",
      "MAE  train 9.103    test 09.464\n",
      "MSE  train 210.751 test 222.930\n",
      "RMSE train 14.517   test 14.931\n",
      "r2   train 0.616     test 0.594\n"
     ]
    }
   ],
   "source": [
    "from sklearn.linear_model import Lasso\n",
    "\n",
    "regressor = Lasso()\n",
    "parameters = {\"alpha\": [0.001,0.01,0.1,1,10], \"normalize\": [True, False]}\n",
    "\n",
    "gs_regression(regressor, parameters)\n"
   ]
  },
  {
   "cell_type": "code",
   "execution_count": 27,
   "metadata": {},
   "outputs": [
    {
     "name": "stdout",
     "output_type": "stream",
     "text": [
      "***GRIDSEARCH RESULTS***\n",
      "Best score: -6.264154 using {'n_neighbors': 20, 'p': 2}\n",
      "\n",
      "MAE  train 5.441    test 05.845\n",
      "MSE  train 86.232 test 95.700\n",
      "RMSE train 9.286   test 9.783\n",
      "r2   train 0.843     test 0.826\n"
     ]
    }
   ],
   "source": [
    "from sklearn.neighbors import KNeighborsRegressor\n",
    "\n",
    "regressor = KNeighborsRegressor()\n",
    "\n",
    "parameters = {'n_neighbors': np.arange(20,50,10),\n",
    "              'p': [1,2]\n",
    "            }\n",
    "\n",
    "gs_regression(regressor, parameters)"
   ]
  },
  {
   "cell_type": "code",
   "execution_count": 28,
   "metadata": {},
   "outputs": [
    {
     "name": "stdout",
     "output_type": "stream",
     "text": [
      "***GRIDSEARCH RESULTS***\n",
      "Best score: -5.215088 using {'max_depth': 7, 'min_samples_leaf': 5}\n",
      "\n",
      "MAE  train 4.812    test 05.343\n",
      "MSE  train 59.412 test 79.070\n",
      "RMSE train 7.708   test 8.892\n",
      "r2   train 0.892     test 0.856\n"
     ]
    }
   ],
   "source": [
    "from sklearn.tree import DecisionTreeRegressor \n",
    "\n",
    "regressor = DecisionTreeRegressor()\n",
    "parameters = {\"max_depth\": np.arange(1,8), \n",
    "              \"min_samples_leaf\": [5]}\n",
    "\n",
    "gs_regression(regressor, parameters)"
   ]
  },
  {
   "cell_type": "code",
   "execution_count": null,
   "metadata": {},
   "outputs": [],
   "source": [
    "from sklearn.svm import SVR\n",
    "\n",
    "regressor = SVR()\n",
    "parameters = {'C': [0.1,10,1000],\n",
    "             'epsilon': [0.01,1],\n",
    "             'gamma':['auto'],\n",
    "             'kernel': ['linear','poly'],\n",
    "             'degree': [2,3]\n",
    "             }\n",
    "\n",
    "gs_regression(regressor, parameters)"
   ]
  },
  {
   "cell_type": "code",
   "execution_count": null,
   "metadata": {},
   "outputs": [],
   "source": [
    "from sklearn.ensemble import AdaBoostRegressor\n",
    "\n",
    "regressor = AdaBoostRegressor()\n",
    "parameters = {\"n_estimators\":[51], \"learning_rate\":[ 0.5], \n",
    "              \"loss\": ['square']}\n",
    "\n",
    "gs_regression(regressor, parameters)"
   ]
  },
  {
   "cell_type": "code",
   "execution_count": null,
   "metadata": {},
   "outputs": [],
   "source": [
    "from sklearn.neural_network import MLPRegressor\n",
    "\n",
    "regressor = MLPRegressor(random_state=0)\n",
    "parameters = {'hidden_layer_sizes': [(10, 5), (20,10,5)],\n",
    "              'solver' : ['sgd'],\n",
    "              'batch_size': [20],\n",
    "              'learning_rate' : ['constant'],\n",
    "              'alpha':10.0 ** -np.arange(1, 3),\n",
    "              'max_iter':[5000]}\n",
    "\n",
    "gs_regression(regressor, parameters)"
   ]
  },
  {
   "cell_type": "markdown",
   "metadata": {},
   "source": [
    "## SHAP"
   ]
  },
  {
   "cell_type": "code",
   "execution_count": null,
   "metadata": {},
   "outputs": [],
   "source": [
    "import shap"
   ]
  },
  {
   "cell_type": "code",
   "execution_count": null,
   "metadata": {},
   "outputs": [],
   "source": [
    "from sklearn.tree import DecisionTreeRegressor \n",
    "\n",
    "tree = DecisionTreeRegressor(max_depth=7, min_samples_leaf=5)"
   ]
  },
  {
   "cell_type": "code",
   "execution_count": null,
   "metadata": {},
   "outputs": [],
   "source": [
    "model = tree.fit(X_train, y_train)"
   ]
  },
  {
   "cell_type": "code",
   "execution_count": null,
   "metadata": {},
   "outputs": [],
   "source": [
    "explainer = shap.TreeExplainer(model)"
   ]
  },
  {
   "cell_type": "code",
   "execution_count": null,
   "metadata": {},
   "outputs": [],
   "source": [
    "shap_values = explainer.shap_values(X_train)"
   ]
  },
  {
   "cell_type": "code",
   "execution_count": null,
   "metadata": {},
   "outputs": [],
   "source": [
    "shap.summary_plot(shap_values, X_train, plot_type=\"bar\")"
   ]
  },
  {
   "cell_type": "code",
   "execution_count": null,
   "metadata": {},
   "outputs": [],
   "source": [
    "shap.summary_plot(shap_values, X_train)"
   ]
  },
  {
   "cell_type": "markdown",
   "metadata": {},
   "source": [
    "## Predictions"
   ]
  },
  {
   "cell_type": "code",
   "execution_count": null,
   "metadata": {},
   "outputs": [],
   "source": [
    "pred_df = pd.read_csv(\"predictions.csv\")\n",
    "pred_df.head()"
   ]
  },
  {
   "cell_type": "code",
   "execution_count": null,
   "metadata": {},
   "outputs": [],
   "source": [
    "df_cat = pred_df[[\"codec\",\"height\",\"o_codec\", \"o_height\"]]\n",
    "df_num = pred_df.drop([\"id\",\"category\",\"codec\",\"height\",\"o_codec\",\"o_height\",\"b_size\"], axis= 1)\n",
    "\n",
    "dummies = pd.get_dummies(df_cat.astype(str)) \n",
    "\n",
    "df_new = pd.concat([df_num,dummies], axis = 1)\n",
    "\n",
    "scaled_df = pd.DataFrame(mm_scaler.fit_transform(df_new), columns = df_new.columns)\n",
    "scaled_df.head()"
   ]
  },
  {
   "cell_type": "code",
   "execution_count": null,
   "metadata": {},
   "outputs": [],
   "source": [
    "X = scaled_df"
   ]
  },
  {
   "cell_type": "code",
   "execution_count": null,
   "metadata": {},
   "outputs": [],
   "source": [
    "model = RandomForestRegressor(criterion='mse', min_samples_leaf=1, n_estimators=100, random_state=42)\n",
    "\n",
    "model.fit(X_train,y_train)\n",
    "\n",
    "y_predictions=model.predict(X)"
   ]
  },
  {
   "cell_type": "code",
   "execution_count": null,
   "metadata": {},
   "outputs": [],
   "source": [
    "y_predictions"
   ]
  },
  {
   "cell_type": "code",
   "execution_count": null,
   "metadata": {},
   "outputs": [],
   "source": [
    "#Export predictions\n",
    "pred_df['target'] = y_predictions\n",
    "pred_df.to_csv('Pred_df.csv')\n",
    "pred_df"
   ]
  },
  {
   "cell_type": "code",
   "execution_count": null,
   "metadata": {},
   "outputs": [],
   "source": []
  }
 ],
 "metadata": {
  "kernelspec": {
   "display_name": "Python 3",
   "language": "python",
   "name": "python3"
  },
  "language_info": {
   "codemirror_mode": {
    "name": "ipython",
    "version": 3
   },
   "file_extension": ".py",
   "mimetype": "text/x-python",
   "name": "python",
   "nbconvert_exporter": "python",
   "pygments_lexer": "ipython3",
   "version": "3.8.5"
  }
 },
 "nbformat": 4,
 "nbformat_minor": 4
}
